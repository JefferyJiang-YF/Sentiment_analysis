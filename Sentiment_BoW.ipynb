{
 "cells": [
  {
   "cell_type": "code",
   "execution_count": 1,
   "id": "e322bd29",
   "metadata": {
    "ExecuteTime": {
     "end_time": "2024-03-24T08:37:28.450743900Z",
     "start_time": "2024-03-24T08:37:23.813623800Z"
    }
   },
   "outputs": [],
   "source": [
    "import collections\n",
    "from sklearn.metrics import precision_recall_fscore_support\n",
    "import datasets\n",
    "import matplotlib.pyplot as plt\n",
    "import numpy as np\n",
    "import torch\n",
    "import torch.nn as nn\n",
    "import torch.optim as optim\n",
    "import torchtext\n",
    "import tqdm"
   ]
  },
  {
   "cell_type": "code",
   "execution_count": 2,
   "id": "fcc98ce9",
   "metadata": {
    "ExecuteTime": {
     "end_time": "2024-03-24T08:37:29.475647100Z",
     "start_time": "2024-03-24T08:37:29.454703700Z"
    }
   },
   "outputs": [],
   "source": [
    "seed = 9027\n",
    "\n",
    "np.random.seed(seed)\n",
    "torch.manual_seed(seed)\n",
    "torch.cuda.manual_seed(seed)\n",
    "torch.backends.cudnn.deterministic = True"
   ]
  },
  {
   "cell_type": "code",
   "execution_count": 3,
   "id": "798f5387",
   "metadata": {
    "ExecuteTime": {
     "end_time": "2024-03-24T08:37:42.171658500Z",
     "start_time": "2024-03-24T08:37:31.774717400Z"
    }
   },
   "outputs": [],
   "source": [
    "train_data, test_data = datasets.load_dataset(\"imdb\", split=[\"train\", \"test\"])"
   ]
  },
  {
   "cell_type": "code",
   "execution_count": 4,
   "id": "42338609",
   "metadata": {
    "ExecuteTime": {
     "end_time": "2024-03-24T08:38:05.585713200Z",
     "start_time": "2024-03-24T08:38:05.561776200Z"
    }
   },
   "outputs": [
    {
     "data": {
      "text/plain": "(Dataset({\n     features: ['text', 'label'],\n     num_rows: 25000\n }),\n Dataset({\n     features: ['text', 'label'],\n     num_rows: 25000\n }))"
     },
     "execution_count": 4,
     "metadata": {},
     "output_type": "execute_result"
    }
   ],
   "source": [
    "train_data, test_data"
   ]
  },
  {
   "cell_type": "code",
   "execution_count": 5,
   "id": "58f5cc56",
   "metadata": {
    "ExecuteTime": {
     "end_time": "2024-03-24T08:38:07.335495900Z",
     "start_time": "2024-03-24T08:38:07.313553600Z"
    }
   },
   "outputs": [
    {
     "data": {
      "text/plain": "{'text': Value(dtype='string', id=None),\n 'label': ClassLabel(names=['neg', 'pos'], id=None)}"
     },
     "execution_count": 5,
     "metadata": {},
     "output_type": "execute_result"
    }
   ],
   "source": [
    "train_data.features"
   ]
  },
  {
   "cell_type": "code",
   "execution_count": 6,
   "id": "25a6e8cb",
   "metadata": {
    "ExecuteTime": {
     "end_time": "2024-03-24T08:38:09.529314800Z",
     "start_time": "2024-03-24T08:38:09.505333800Z"
    }
   },
   "outputs": [
    {
     "data": {
      "text/plain": "{'text': 'I rented I AM CURIOUS-YELLOW from my video store because of all the controversy that surrounded it when it was first released in 1967. I also heard that at first it was seized by U.S. customs if it ever tried to enter this country, therefore being a fan of films considered \"controversial\" I really had to see this for myself.<br /><br />The plot is centered around a young Swedish drama student named Lena who wants to learn everything she can about life. In particular she wants to focus her attentions to making some sort of documentary on what the average Swede thought about certain political issues such as the Vietnam War and race issues in the United States. In between asking politicians and ordinary denizens of Stockholm about their opinions on politics, she has sex with her drama teacher, classmates, and married men.<br /><br />What kills me about I AM CURIOUS-YELLOW is that 40 years ago, this was considered pornographic. Really, the sex and nudity scenes are few and far between, even then it\\'s not shot like some cheaply made porno. While my countrymen mind find it shocking, in reality sex and nudity are a major staple in Swedish cinema. Even Ingmar Bergman, arguably their answer to good old boy John Ford, had sex scenes in his films.<br /><br />I do commend the filmmakers for the fact that any sex shown in the film is shown for artistic purposes rather than just to shock people and make money to be shown in pornographic theaters in America. I AM CURIOUS-YELLOW is a good film for anyone wanting to study the meat and potatoes (no pun intended) of Swedish cinema. But really, this film doesn\\'t have much of a plot.',\n 'label': 0}"
     },
     "execution_count": 6,
     "metadata": {},
     "output_type": "execute_result"
    }
   ],
   "source": [
    "train_data[0]"
   ]
  },
  {
   "cell_type": "code",
   "execution_count": 7,
   "id": "3017c0ab",
   "metadata": {
    "ExecuteTime": {
     "end_time": "2024-03-24T08:38:10.506239300Z",
     "start_time": "2024-03-24T08:38:10.471333100Z"
    }
   },
   "outputs": [],
   "source": [
    "tokenizer = torchtext.data.utils.get_tokenizer(\"basic_english\")"
   ]
  },
  {
   "cell_type": "code",
   "execution_count": 8,
   "id": "2d0de969",
   "metadata": {
    "ExecuteTime": {
     "end_time": "2024-03-24T08:38:11.328044300Z",
     "start_time": "2024-03-24T08:38:11.291141800Z"
    }
   },
   "outputs": [
    {
     "data": {
      "text/plain": "['hello',\n 'world',\n '!',\n 'how',\n 'are',\n 'you',\n 'doing',\n 'today',\n '?',\n 'i',\n \"'\",\n 'm',\n 'doing',\n 'fantastic',\n '!']"
     },
     "execution_count": 8,
     "metadata": {},
     "output_type": "execute_result"
    }
   ],
   "source": [
    "tokenizer(\"Hello world! How are you doing today? I'm doing fantastic!\")"
   ]
  },
  {
   "cell_type": "code",
   "execution_count": 9,
   "id": "876ad3b9",
   "metadata": {
    "ExecuteTime": {
     "end_time": "2024-03-24T08:38:12.962022400Z",
     "start_time": "2024-03-24T08:38:12.932106400Z"
    }
   },
   "outputs": [],
   "source": [
    "def tokenize_example(example, tokenizer, max_length):\n",
    "    tokens = tokenizer(example[\"text\"])[:max_length]\n",
    "    return {\"tokens\": tokens}"
   ]
  },
  {
   "cell_type": "code",
   "execution_count": 10,
   "id": "5e295030",
   "metadata": {
    "ExecuteTime": {
     "end_time": "2024-03-24T08:38:14.399854900Z",
     "start_time": "2024-03-24T08:38:14.246265900Z"
    }
   },
   "outputs": [],
   "source": [
    "max_length = 256\n",
    "\n",
    "train_data = train_data.map(\n",
    "    tokenize_example, fn_kwargs={\"tokenizer\": tokenizer, \"max_length\": max_length}\n",
    ")\n",
    "test_data = test_data.map(\n",
    "    tokenize_example, fn_kwargs={\"tokenizer\": tokenizer, \"max_length\": max_length}\n",
    ")"
   ]
  },
  {
   "cell_type": "code",
   "execution_count": 11,
   "id": "f647bdf9",
   "metadata": {
    "ExecuteTime": {
     "end_time": "2024-03-24T08:38:15.664877200Z",
     "start_time": "2024-03-24T08:38:15.603043700Z"
    }
   },
   "outputs": [
    {
     "data": {
      "text/plain": "Dataset({\n    features: ['text', 'label', 'tokens'],\n    num_rows: 25000\n})"
     },
     "execution_count": 11,
     "metadata": {},
     "output_type": "execute_result"
    }
   ],
   "source": [
    "train_data"
   ]
  },
  {
   "cell_type": "code",
   "execution_count": 12,
   "id": "1605d52b",
   "metadata": {
    "ExecuteTime": {
     "end_time": "2024-03-24T08:38:16.922198400Z",
     "start_time": "2024-03-24T08:38:16.884301Z"
    }
   },
   "outputs": [
    {
     "data": {
      "text/plain": "{'text': Value(dtype='string', id=None),\n 'label': ClassLabel(names=['neg', 'pos'], id=None),\n 'tokens': Sequence(feature=Value(dtype='string', id=None), length=-1, id=None)}"
     },
     "execution_count": 12,
     "metadata": {},
     "output_type": "execute_result"
    }
   ],
   "source": [
    "train_data.features"
   ]
  },
  {
   "cell_type": "code",
   "execution_count": 13,
   "id": "2f3de3b9",
   "metadata": {
    "ExecuteTime": {
     "end_time": "2024-03-24T08:38:18.316656600Z",
     "start_time": "2024-03-24T08:38:18.292679900Z"
    }
   },
   "outputs": [
    {
     "data": {
      "text/plain": "['i',\n 'rented',\n 'i',\n 'am',\n 'curious-yellow',\n 'from',\n 'my',\n 'video',\n 'store',\n 'because',\n 'of',\n 'all',\n 'the',\n 'controversy',\n 'that',\n 'surrounded',\n 'it',\n 'when',\n 'it',\n 'was',\n 'first',\n 'released',\n 'in',\n '1967',\n '.']"
     },
     "execution_count": 13,
     "metadata": {},
     "output_type": "execute_result"
    }
   ],
   "source": [
    "train_data[0][\"tokens\"][:25]"
   ]
  },
  {
   "cell_type": "code",
   "execution_count": 14,
   "id": "15e48bfb",
   "metadata": {
    "ExecuteTime": {
     "end_time": "2024-03-24T08:38:19.502995400Z",
     "start_time": "2024-03-24T08:38:19.436174500Z"
    }
   },
   "outputs": [],
   "source": [
    "test_size = 0.25\n",
    "\n",
    "train_valid_data = train_data.train_test_split(test_size=test_size)\n",
    "train_data = train_valid_data[\"train\"]\n",
    "valid_data = train_valid_data[\"test\"]"
   ]
  },
  {
   "cell_type": "code",
   "execution_count": 15,
   "id": "c227e4fc",
   "metadata": {
    "ExecuteTime": {
     "end_time": "2024-03-24T08:38:20.644941400Z",
     "start_time": "2024-03-24T08:38:20.601059200Z"
    }
   },
   "outputs": [
    {
     "data": {
      "text/plain": "(18750, 6250, 25000)"
     },
     "execution_count": 15,
     "metadata": {},
     "output_type": "execute_result"
    }
   ],
   "source": [
    "len(train_data), len(valid_data), len(test_data)"
   ]
  },
  {
   "cell_type": "code",
   "execution_count": 16,
   "id": "4865e94a",
   "metadata": {
    "ExecuteTime": {
     "end_time": "2024-03-24T08:38:26.934829200Z",
     "start_time": "2024-03-24T08:38:21.529772Z"
    }
   },
   "outputs": [],
   "source": [
    "min_freq = 5\n",
    "special_tokens = [\"<unk>\", \"<pad>\"]\n",
    "\n",
    "vocab = torchtext.vocab.build_vocab_from_iterator(\n",
    "    train_data[\"tokens\"],\n",
    "    min_freq=min_freq,\n",
    "    specials=special_tokens,\n",
    ")"
   ]
  },
  {
   "cell_type": "code",
   "execution_count": 17,
   "id": "123ceb33",
   "metadata": {
    "ExecuteTime": {
     "end_time": "2024-03-24T08:38:29.964415400Z",
     "start_time": "2024-03-24T08:38:29.935491900Z"
    }
   },
   "outputs": [
    {
     "data": {
      "text/plain": "21574"
     },
     "execution_count": 17,
     "metadata": {},
     "output_type": "execute_result"
    }
   ],
   "source": [
    "len(vocab)"
   ]
  },
  {
   "cell_type": "code",
   "execution_count": 18,
   "id": "d4ec89de",
   "metadata": {
    "ExecuteTime": {
     "end_time": "2024-03-24T08:38:31.248468700Z",
     "start_time": "2024-03-24T08:38:31.199256700Z"
    }
   },
   "outputs": [
    {
     "data": {
      "text/plain": "['<unk>', '<pad>', 'the', '.', ',', 'a', 'and', 'of', 'to', \"'\"]"
     },
     "execution_count": 18,
     "metadata": {},
     "output_type": "execute_result"
    }
   ],
   "source": [
    "vocab.get_itos()[:10]"
   ]
  },
  {
   "cell_type": "code",
   "execution_count": 19,
   "id": "e3cabb50",
   "metadata": {
    "ExecuteTime": {
     "end_time": "2024-03-24T08:38:32.724263700Z",
     "start_time": "2024-03-24T08:38:32.667416100Z"
    }
   },
   "outputs": [
    {
     "data": {
      "text/plain": "6"
     },
     "execution_count": 19,
     "metadata": {},
     "output_type": "execute_result"
    }
   ],
   "source": [
    "vocab[\"and\"]"
   ]
  },
  {
   "cell_type": "code",
   "execution_count": 20,
   "id": "29ac49c8",
   "metadata": {
    "ExecuteTime": {
     "end_time": "2024-03-24T08:38:33.740075900Z",
     "start_time": "2024-03-24T08:38:33.715143200Z"
    }
   },
   "outputs": [],
   "source": [
    "unk_index = vocab[\"<unk>\"]\n",
    "pad_index = vocab[\"<pad>\"]"
   ]
  },
  {
   "cell_type": "code",
   "execution_count": 21,
   "id": "201b5383",
   "metadata": {
    "ExecuteTime": {
     "end_time": "2024-03-24T08:38:34.686544800Z",
     "start_time": "2024-03-24T08:38:34.663606700Z"
    }
   },
   "outputs": [
    {
     "data": {
      "text/plain": "False"
     },
     "execution_count": 21,
     "metadata": {},
     "output_type": "execute_result"
    }
   ],
   "source": [
    "\"some_token\" in vocab"
   ]
  },
  {
   "cell_type": "code",
   "execution_count": 22,
   "id": "7a951ea0",
   "metadata": {
    "ExecuteTime": {
     "end_time": "2024-03-24T08:38:36.138661900Z",
     "start_time": "2024-03-24T08:38:36.108742100Z"
    }
   },
   "outputs": [],
   "source": [
    "vocab.set_default_index(unk_index)"
   ]
  },
  {
   "cell_type": "code",
   "execution_count": 23,
   "id": "407fe05d",
   "metadata": {
    "ExecuteTime": {
     "end_time": "2024-03-24T08:38:38.577442800Z",
     "start_time": "2024-03-24T08:38:38.543494Z"
    }
   },
   "outputs": [
    {
     "data": {
      "text/plain": "0"
     },
     "execution_count": 23,
     "metadata": {},
     "output_type": "execute_result"
    }
   ],
   "source": [
    "vocab[\"some_token\"]"
   ]
  },
  {
   "cell_type": "code",
   "execution_count": 24,
   "id": "cbef1d61",
   "metadata": {
    "ExecuteTime": {
     "end_time": "2024-03-24T08:38:39.721778500Z",
     "start_time": "2024-03-24T08:38:39.690861500Z"
    }
   },
   "outputs": [
    {
     "data": {
      "text/plain": "[4471, 188, 0, 1]"
     },
     "execution_count": 24,
     "metadata": {},
     "output_type": "execute_result"
    }
   ],
   "source": [
    "vocab.lookup_indices([\"hello\", \"world\", \"some_token\", \"<pad>\"])"
   ]
  },
  {
   "cell_type": "code",
   "execution_count": 25,
   "id": "76518d11",
   "metadata": {
    "ExecuteTime": {
     "end_time": "2024-03-24T08:38:40.695251800Z",
     "start_time": "2024-03-24T08:38:40.671315900Z"
    }
   },
   "outputs": [],
   "source": [
    "def numericalize_example(example, vocab):\n",
    "    ids = vocab.lookup_indices(example[\"tokens\"])\n",
    "    return {\"ids\": ids}"
   ]
  },
  {
   "cell_type": "code",
   "execution_count": 26,
   "id": "dacaeaef",
   "metadata": {
    "ExecuteTime": {
     "end_time": "2024-03-24T08:39:00.866049600Z",
     "start_time": "2024-03-24T08:38:41.597525700Z"
    }
   },
   "outputs": [
    {
     "data": {
      "text/plain": "Map:   0%|          | 0/18750 [00:00<?, ? examples/s]",
      "application/vnd.jupyter.widget-view+json": {
       "version_major": 2,
       "version_minor": 0,
       "model_id": "125b09aab2a74257a52a268f07cb78d2"
      }
     },
     "metadata": {},
     "output_type": "display_data"
    },
    {
     "data": {
      "text/plain": "Map:   0%|          | 0/6250 [00:00<?, ? examples/s]",
      "application/vnd.jupyter.widget-view+json": {
       "version_major": 2,
       "version_minor": 0,
       "model_id": "9eb3b05e57354d35b90af23927008db3"
      }
     },
     "metadata": {},
     "output_type": "display_data"
    },
    {
     "data": {
      "text/plain": "Map:   0%|          | 0/25000 [00:00<?, ? examples/s]",
      "application/vnd.jupyter.widget-view+json": {
       "version_major": 2,
       "version_minor": 0,
       "model_id": "f99d022842e049a8ae92801fa79ffd19"
      }
     },
     "metadata": {},
     "output_type": "display_data"
    }
   ],
   "source": [
    "train_data = train_data.map(numericalize_example, fn_kwargs={\"vocab\": vocab})\n",
    "valid_data = valid_data.map(numericalize_example, fn_kwargs={\"vocab\": vocab})\n",
    "test_data = test_data.map(numericalize_example, fn_kwargs={\"vocab\": vocab})"
   ]
  },
  {
   "cell_type": "code",
   "execution_count": 27,
   "id": "a9ea2af1",
   "metadata": {
    "ExecuteTime": {
     "end_time": "2024-03-24T08:39:05.059935900Z",
     "start_time": "2024-03-24T08:39:05.011573800Z"
    }
   },
   "outputs": [
    {
     "data": {
      "text/plain": "['i',\n 'saw',\n 'this',\n 'movie',\n 'recently',\n 'because',\n 'a',\n 'friend',\n 'brought',\n 'it']"
     },
     "execution_count": 27,
     "metadata": {},
     "output_type": "execute_result"
    }
   ],
   "source": [
    "train_data[0][\"tokens\"][:10]"
   ]
  },
  {
   "cell_type": "code",
   "execution_count": 28,
   "id": "eaaa9421",
   "metadata": {
    "ExecuteTime": {
     "end_time": "2024-03-24T08:39:06.342059700Z",
     "start_time": "2024-03-24T08:39:06.242279500Z"
    }
   },
   "outputs": [
    {
     "data": {
      "text/plain": "[12, 187, 14, 18, 862, 90, 5, 438, 819, 11]"
     },
     "execution_count": 28,
     "metadata": {},
     "output_type": "execute_result"
    }
   ],
   "source": [
    "vocab.lookup_indices(train_data[0][\"tokens\"][:10])"
   ]
  },
  {
   "cell_type": "code",
   "execution_count": 29,
   "id": "700f096d",
   "metadata": {
    "ExecuteTime": {
     "end_time": "2024-03-24T08:39:07.566108900Z",
     "start_time": "2024-03-24T08:39:07.537139100Z"
    }
   },
   "outputs": [
    {
     "data": {
      "text/plain": "[12, 187, 14, 18, 862, 90, 5, 438, 819, 11]"
     },
     "execution_count": 29,
     "metadata": {},
     "output_type": "execute_result"
    }
   ],
   "source": [
    "train_data[0][\"ids\"][:10]"
   ]
  },
  {
   "cell_type": "code",
   "execution_count": 30,
   "id": "678d0397",
   "metadata": {
    "ExecuteTime": {
     "end_time": "2024-03-24T08:39:08.566156500Z",
     "start_time": "2024-03-24T08:39:08.527261400Z"
    }
   },
   "outputs": [],
   "source": [
    "train_data = train_data.with_format(type=\"torch\", columns=[\"ids\", \"label\"])\n",
    "valid_data = valid_data.with_format(type=\"torch\", columns=[\"ids\", \"label\"])\n",
    "test_data = test_data.with_format(type=\"torch\", columns=[\"ids\", \"label\"])"
   ]
  },
  {
   "cell_type": "code",
   "execution_count": 31,
   "id": "221c3e2e",
   "metadata": {
    "ExecuteTime": {
     "end_time": "2024-03-24T08:39:09.427363100Z",
     "start_time": "2024-03-24T08:39:09.340596700Z"
    }
   },
   "outputs": [
    {
     "data": {
      "text/plain": "tensor(0)"
     },
     "execution_count": 31,
     "metadata": {},
     "output_type": "execute_result"
    }
   ],
   "source": [
    "train_data[0][\"label\"]"
   ]
  },
  {
   "cell_type": "code",
   "execution_count": 32,
   "id": "c9d4ec10",
   "metadata": {
    "ExecuteTime": {
     "end_time": "2024-03-24T08:39:10.329356400Z",
     "start_time": "2024-03-24T08:39:10.300436500Z"
    }
   },
   "outputs": [
    {
     "data": {
      "text/plain": "tensor([ 12, 187,  14,  18, 862,  90,   5, 438, 819,  11])"
     },
     "execution_count": 32,
     "metadata": {},
     "output_type": "execute_result"
    }
   ],
   "source": [
    "train_data[0][\"ids\"][:10]"
   ]
  },
  {
   "cell_type": "code",
   "execution_count": 33,
   "id": "90f7a79a",
   "metadata": {
    "ExecuteTime": {
     "end_time": "2024-03-24T08:39:11.360548500Z",
     "start_time": "2024-03-24T08:39:11.296719700Z"
    }
   },
   "outputs": [
    {
     "data": {
      "text/plain": "dict_keys(['label', 'ids'])"
     },
     "execution_count": 33,
     "metadata": {},
     "output_type": "execute_result"
    }
   ],
   "source": [
    "train_data[0].keys()"
   ]
  },
  {
   "cell_type": "code",
   "execution_count": 34,
   "id": "4228c9ac",
   "metadata": {
    "ExecuteTime": {
     "end_time": "2024-03-24T08:39:12.159413100Z",
     "start_time": "2024-03-24T08:39:12.098575300Z"
    }
   },
   "outputs": [
    {
     "data": {
      "text/plain": "['i',\n 'saw',\n 'this',\n 'movie',\n 'recently',\n 'because',\n 'a',\n 'friend',\n 'brought',\n 'it']"
     },
     "execution_count": 34,
     "metadata": {},
     "output_type": "execute_result"
    }
   ],
   "source": [
    "vocab.lookup_tokens(train_data[0][\"ids\"][:10].tolist())"
   ]
  },
  {
   "cell_type": "code",
   "execution_count": 35,
   "id": "d39cf1e1",
   "metadata": {
    "ExecuteTime": {
     "end_time": "2024-03-24T08:39:13.039505500Z",
     "start_time": "2024-03-24T08:39:13.015570300Z"
    }
   },
   "outputs": [],
   "source": [
    "def get_collate_fn(pad_index):\n",
    "    def collate_fn(batch):\n",
    "        batch_ids = [i[\"ids\"] for i in batch]\n",
    "        batch_ids = nn.utils.rnn.pad_sequence(\n",
    "            batch_ids, padding_value=pad_index, batch_first=True\n",
    "        )\n",
    "        batch_label = [i[\"label\"] for i in batch]\n",
    "        batch_label = torch.stack(batch_label)\n",
    "        batch = {\"ids\": batch_ids, \"label\": batch_label}\n",
    "        return batch\n",
    "\n",
    "    return collate_fn"
   ]
  },
  {
   "cell_type": "code",
   "execution_count": 36,
   "id": "8c88f93f",
   "metadata": {
    "ExecuteTime": {
     "end_time": "2024-03-24T08:39:15.346024300Z",
     "start_time": "2024-03-24T08:39:15.314112Z"
    }
   },
   "outputs": [],
   "source": [
    "def get_data_loader(dataset, batch_size, pad_index, shuffle=False):\n",
    "    collate_fn = get_collate_fn(pad_index)\n",
    "    data_loader = torch.utils.data.DataLoader(\n",
    "        dataset=dataset,\n",
    "        batch_size=batch_size,\n",
    "        collate_fn=collate_fn,\n",
    "        shuffle=shuffle,\n",
    "    )\n",
    "    return data_loader"
   ]
  },
  {
   "cell_type": "code",
   "execution_count": 37,
   "id": "d3098a96",
   "metadata": {
    "ExecuteTime": {
     "end_time": "2024-03-24T08:39:16.492172100Z",
     "start_time": "2024-03-24T08:39:16.440311100Z"
    }
   },
   "outputs": [],
   "source": [
    "batch_size = 512\n",
    "\n",
    "train_data_loader = get_data_loader(train_data, batch_size, pad_index, shuffle=True)\n",
    "valid_data_loader = get_data_loader(valid_data, batch_size, pad_index)\n",
    "test_data_loader = get_data_loader(test_data, batch_size, pad_index)"
   ]
  },
  {
   "cell_type": "code",
   "execution_count": 38,
   "id": "081f04a6",
   "metadata": {
    "ExecuteTime": {
     "end_time": "2024-03-24T08:39:18.069781700Z",
     "start_time": "2024-03-24T08:39:18.038865Z"
    }
   },
   "outputs": [],
   "source": [
    "class NBoW(nn.Module):\n",
    "    def __init__(self, vocab_size, embedding_dim, output_dim, pad_index):\n",
    "        super().__init__()\n",
    "        self.embedding = nn.Embedding(vocab_size, embedding_dim, padding_idx=pad_index)\n",
    "        self.fc = nn.Linear(embedding_dim, output_dim)\n",
    "\n",
    "    def forward(self, ids):\n",
    "        # ids = [batch size, seq len]\n",
    "        embedded = self.embedding(ids)\n",
    "        # embedded = [batch size, seq len, embedding dim]\n",
    "        pooled = embedded.mean(dim=1)\n",
    "        # pooled = [batch size, embedding dim]\n",
    "        prediction = self.fc(pooled)\n",
    "        # prediction = [batch size, output dim]\n",
    "        return prediction"
   ]
  },
  {
   "cell_type": "code",
   "execution_count": 39,
   "id": "97897898",
   "metadata": {
    "ExecuteTime": {
     "end_time": "2024-03-24T08:39:19.268924100Z",
     "start_time": "2024-03-24T08:39:19.191131800Z"
    }
   },
   "outputs": [],
   "source": [
    "vocab_size = len(vocab)\n",
    "embedding_dim = 300\n",
    "output_dim = len(train_data.unique(\"label\"))\n",
    "\n",
    "model = NBoW(vocab_size, embedding_dim, output_dim, pad_index)"
   ]
  },
  {
   "cell_type": "code",
   "execution_count": 40,
   "id": "4acc5118",
   "metadata": {
    "ExecuteTime": {
     "end_time": "2024-03-24T08:39:20.618670500Z",
     "start_time": "2024-03-24T08:39:20.539881400Z"
    }
   },
   "outputs": [
    {
     "name": "stdout",
     "output_type": "stream",
     "text": [
      "The model has 6,472,802 trainable parameters\n"
     ]
    }
   ],
   "source": [
    "def count_parameters(model):\n",
    "    return sum(p.numel() for p in model.parameters() if p.requires_grad)\n",
    "\n",
    "\n",
    "print(f\"The model has {count_parameters(model):,} trainable parameters\")"
   ]
  },
  {
   "cell_type": "code",
   "execution_count": 41,
   "id": "866e0b64",
   "metadata": {
    "ExecuteTime": {
     "end_time": "2024-03-24T08:39:29.121955300Z",
     "start_time": "2024-03-24T08:39:22.027923100Z"
    }
   },
   "outputs": [],
   "source": [
    "vectors = torchtext.vocab.GloVe()"
   ]
  },
  {
   "cell_type": "code",
   "execution_count": 42,
   "id": "ead7be53",
   "metadata": {
    "ExecuteTime": {
     "end_time": "2024-03-24T08:39:30.982121700Z",
     "start_time": "2024-03-24T08:39:30.958145400Z"
    }
   },
   "outputs": [],
   "source": [
    "hello_vector = vectors.get_vecs_by_tokens(\"hello\")"
   ]
  },
  {
   "cell_type": "code",
   "execution_count": 43,
   "id": "1a64ead7",
   "metadata": {
    "ExecuteTime": {
     "end_time": "2024-03-24T08:39:31.851826600Z",
     "start_time": "2024-03-24T08:39:31.803953600Z"
    }
   },
   "outputs": [
    {
     "data": {
      "text/plain": "torch.Size([300])"
     },
     "execution_count": 43,
     "metadata": {},
     "output_type": "execute_result"
    }
   ],
   "source": [
    "hello_vector.shape"
   ]
  },
  {
   "cell_type": "code",
   "execution_count": 44,
   "id": "7ecc5d88",
   "metadata": {
    "ExecuteTime": {
     "end_time": "2024-03-24T08:39:32.994820600Z",
     "start_time": "2024-03-24T08:39:32.897540600Z"
    }
   },
   "outputs": [
    {
     "data": {
      "text/plain": "tensor([ 0.2523,  0.1018, -0.6748,  0.2112,  0.4349,  0.1654,  0.4826, -0.8122,\n         0.0413,  0.7850, -0.0779, -0.6632,  0.1464, -0.2929, -0.2549,  0.0193,\n        -0.2026,  0.9823,  0.0283, -0.0813, -0.1214,  0.1313, -0.1765,  0.1356,\n        -0.1636, -0.2257,  0.0550, -0.2031,  0.2072,  0.0958,  0.2248,  0.2154])"
     },
     "execution_count": 44,
     "metadata": {},
     "output_type": "execute_result"
    }
   ],
   "source": [
    "hello_vector[:32]"
   ]
  },
  {
   "cell_type": "code",
   "execution_count": 45,
   "id": "e8540b4b",
   "metadata": {
    "ExecuteTime": {
     "end_time": "2024-03-24T08:39:34.203631600Z",
     "start_time": "2024-03-24T08:39:34.049003200Z"
    }
   },
   "outputs": [],
   "source": [
    "pretrained_embedding = vectors.get_vecs_by_tokens(vocab.get_itos())"
   ]
  },
  {
   "cell_type": "code",
   "execution_count": 46,
   "id": "9d31228e",
   "metadata": {
    "ExecuteTime": {
     "end_time": "2024-03-24T08:39:34.993784100Z",
     "start_time": "2024-03-24T08:39:34.931947800Z"
    }
   },
   "outputs": [
    {
     "data": {
      "text/plain": "torch.Size([21574, 300])"
     },
     "execution_count": 46,
     "metadata": {},
     "output_type": "execute_result"
    }
   ],
   "source": [
    "pretrained_embedding.shape"
   ]
  },
  {
   "cell_type": "code",
   "execution_count": 47,
   "id": "3a6f4173",
   "metadata": {
    "ExecuteTime": {
     "end_time": "2024-03-24T08:39:36.053095400Z",
     "start_time": "2024-03-24T08:39:36.008215600Z"
    }
   },
   "outputs": [
    {
     "data": {
      "text/plain": "Parameter containing:\ntensor([[ 0.0934, -0.5176, -0.5314,  ...,  0.3771, -1.2457,  1.0908],\n        [ 0.0000,  0.0000,  0.0000,  ...,  0.0000,  0.0000,  0.0000],\n        [ 0.7530,  0.2243,  0.4843,  ..., -0.6605, -1.1781, -0.3280],\n        ...,\n        [ 1.5667, -0.1287, -0.7330,  ..., -0.4835,  0.0091,  0.6470],\n        [ 1.3670,  0.6465, -0.6097,  ..., -0.7860, -0.2024, -0.2394],\n        [ 0.6556, -0.1013,  0.3019,  ..., -0.8049,  1.7237,  0.0329]],\n       requires_grad=True)"
     },
     "execution_count": 47,
     "metadata": {},
     "output_type": "execute_result"
    }
   ],
   "source": [
    "model.embedding.weight"
   ]
  },
  {
   "cell_type": "code",
   "execution_count": 48,
   "id": "5c1cbd5c",
   "metadata": {
    "ExecuteTime": {
     "end_time": "2024-03-24T08:39:37.050429Z",
     "start_time": "2024-03-24T08:39:36.971639200Z"
    }
   },
   "outputs": [
    {
     "data": {
      "text/plain": "tensor([[ 0.0000,  0.0000,  0.0000,  ...,  0.0000,  0.0000,  0.0000],\n        [ 0.0000,  0.0000,  0.0000,  ...,  0.0000,  0.0000,  0.0000],\n        [ 0.2720, -0.0620, -0.1884,  ...,  0.1302, -0.1832,  0.1323],\n        ...,\n        [ 0.5050,  0.0609,  0.3423,  ...,  0.0625, -0.1585,  0.1404],\n        [ 0.4690, -0.0886,  0.0185,  ...,  0.5162, -0.1560,  0.7900],\n        [ 0.0000,  0.0000,  0.0000,  ...,  0.0000,  0.0000,  0.0000]])"
     },
     "execution_count": 48,
     "metadata": {},
     "output_type": "execute_result"
    }
   ],
   "source": [
    "pretrained_embedding"
   ]
  },
  {
   "cell_type": "code",
   "execution_count": 49,
   "id": "6ea34c9b",
   "metadata": {
    "ExecuteTime": {
     "end_time": "2024-03-24T08:39:38.110917600Z",
     "start_time": "2024-03-24T08:39:38.047086300Z"
    }
   },
   "outputs": [],
   "source": [
    "model.embedding.weight.data = pretrained_embedding"
   ]
  },
  {
   "cell_type": "code",
   "execution_count": 50,
   "id": "1332d9a6",
   "metadata": {
    "ExecuteTime": {
     "end_time": "2024-03-24T08:39:39.170267400Z",
     "start_time": "2024-03-24T08:39:39.121398900Z"
    }
   },
   "outputs": [
    {
     "data": {
      "text/plain": "Parameter containing:\ntensor([[ 0.0000,  0.0000,  0.0000,  ...,  0.0000,  0.0000,  0.0000],\n        [ 0.0000,  0.0000,  0.0000,  ...,  0.0000,  0.0000,  0.0000],\n        [ 0.2720, -0.0620, -0.1884,  ...,  0.1302, -0.1832,  0.1323],\n        ...,\n        [ 0.5050,  0.0609,  0.3423,  ...,  0.0625, -0.1585,  0.1404],\n        [ 0.4690, -0.0886,  0.0185,  ...,  0.5162, -0.1560,  0.7900],\n        [ 0.0000,  0.0000,  0.0000,  ...,  0.0000,  0.0000,  0.0000]],\n       requires_grad=True)"
     },
     "execution_count": 50,
     "metadata": {},
     "output_type": "execute_result"
    }
   ],
   "source": [
    "model.embedding.weight"
   ]
  },
  {
   "cell_type": "code",
   "execution_count": 51,
   "id": "4fcb95e0",
   "metadata": {
    "ExecuteTime": {
     "end_time": "2024-03-24T08:39:42.425596700Z",
     "start_time": "2024-03-24T08:39:40.185585600Z"
    }
   },
   "outputs": [],
   "source": [
    "optimizer = optim.Adam(model.parameters())"
   ]
  },
  {
   "cell_type": "code",
   "execution_count": 52,
   "id": "f8829cd4",
   "metadata": {
    "ExecuteTime": {
     "end_time": "2024-03-24T08:39:43.465742100Z",
     "start_time": "2024-03-24T08:39:43.438814Z"
    }
   },
   "outputs": [],
   "source": [
    "criterion = nn.CrossEntropyLoss()"
   ]
  },
  {
   "cell_type": "code",
   "execution_count": 53,
   "id": "7ed273e0",
   "metadata": {
    "ExecuteTime": {
     "end_time": "2024-03-24T08:39:44.370300500Z",
     "start_time": "2024-03-24T08:39:44.302479300Z"
    }
   },
   "outputs": [
    {
     "data": {
      "text/plain": "device(type='cpu')"
     },
     "execution_count": 53,
     "metadata": {},
     "output_type": "execute_result"
    }
   ],
   "source": [
    "device = torch.device(\"cuda\" if torch.cuda.is_available() else \"cpu\")\n",
    "\n",
    "device"
   ]
  },
  {
   "cell_type": "code",
   "execution_count": 54,
   "id": "3cdaf3b3",
   "metadata": {
    "ExecuteTime": {
     "end_time": "2024-03-24T08:39:45.958759500Z",
     "start_time": "2024-03-24T08:39:45.921860500Z"
    }
   },
   "outputs": [],
   "source": [
    "model = model.to(device)\n",
    "criterion = criterion.to(device)"
   ]
  },
  {
   "cell_type": "code",
   "execution_count": 55,
   "id": "729aa9c8",
   "metadata": {
    "ExecuteTime": {
     "end_time": "2024-03-24T08:39:47.099790Z",
     "start_time": "2024-03-24T08:39:47.047928900Z"
    }
   },
   "outputs": [],
   "source": [
    "def train(data_loader, model, criterion, optimizer, device):\n",
    "    model.train()\n",
    "    epoch_losses = []\n",
    "    epoch_accs = []\n",
    "    epoch_precisions = []\n",
    "    epoch_recalls = []\n",
    "    epoch_f1s = []\n",
    "\n",
    "    for batch in tqdm.tqdm(data_loader, desc=\"training...\"):\n",
    "        ids = batch[\"ids\"].to(device)\n",
    "        label = batch[\"label\"].to(device)\n",
    "        prediction = model(ids)\n",
    "        loss = criterion(prediction, label)\n",
    "        \n",
    "        # Calculate accuracy\n",
    "        accuracy = get_accuracy(prediction, label)\n",
    "        \n",
    "        # Calculate precision, recall, and F1 score\n",
    "        preds = prediction.argmax(dim=1).detach().cpu().numpy()  # Get the max logit as the predicted class and move to CPU\n",
    "        true = label.detach().cpu().numpy()  # Move true labels to CPU\n",
    "        precision, recall, f1, _ = precision_recall_fscore_support(true, preds, average='macro')\n",
    "        \n",
    "        # Backpropagation\n",
    "        optimizer.zero_grad()\n",
    "        loss.backward()\n",
    "        optimizer.step()\n",
    "        \n",
    "        # Append metrics\n",
    "        epoch_losses.append(loss.item())\n",
    "        epoch_accs.append(accuracy)\n",
    "        epoch_precisions.append(precision)\n",
    "        epoch_recalls.append(recall)\n",
    "        epoch_f1s.append(f1)\n",
    "\n",
    "    # Return the average of all epoch metrics\n",
    "    return {\n",
    "        'loss': np.mean(epoch_losses),\n",
    "        'accuracy': np.mean(epoch_accs),\n",
    "        'precision': np.mean(epoch_precisions),\n",
    "        'recall': np.mean(epoch_recalls),\n",
    "        'f1': np.mean(epoch_f1s)\n",
    "    }"
   ]
  },
  {
   "cell_type": "code",
   "execution_count": 56,
   "id": "e0a80c30",
   "metadata": {
    "ExecuteTime": {
     "end_time": "2024-03-24T08:39:48.934712600Z",
     "start_time": "2024-03-24T08:39:48.871838200Z"
    }
   },
   "outputs": [],
   "source": [
    "def evaluate(data_loader, model, criterion, device):\n",
    "    model.eval()\n",
    "    epoch_losses = []\n",
    "    epoch_accs = []\n",
    "    epoch_precisions = []\n",
    "    epoch_recalls = []\n",
    "    epoch_f1s = []\n",
    "\n",
    "    with torch.no_grad():\n",
    "        for batch in tqdm.tqdm(data_loader, desc=\"evaluating...\"):\n",
    "            ids = batch[\"ids\"].to(device)\n",
    "            label = batch[\"label\"].to(device)\n",
    "            prediction = model(ids)\n",
    "            loss = criterion(prediction, label)\n",
    "            accuracy = get_accuracy(prediction, label)\n",
    "\n",
    "            # Convert predictions and labels to numpy arrays\n",
    "            preds = prediction.argmax(dim=1).detach().cpu().numpy()\n",
    "            true = label.detach().cpu().numpy()\n",
    "\n",
    "            # Calculate precision, recall, and F1 score\n",
    "            precision, recall, f1, _ = precision_recall_fscore_support(true, preds, average='macro')\n",
    "\n",
    "            # Append metrics\n",
    "            epoch_losses.append(loss.item())\n",
    "            epoch_accs.append(accuracy)\n",
    "            epoch_precisions.append(precision)\n",
    "            epoch_recalls.append(recall)\n",
    "            epoch_f1s.append(f1)\n",
    "\n",
    "    # Return the average of all epoch metrics\n",
    "    return {\n",
    "        'loss': np.mean(epoch_losses),\n",
    "        'accuracy': np.mean(epoch_accs),\n",
    "        'precision': np.mean(epoch_precisions),\n",
    "        'recall': np.mean(epoch_recalls),\n",
    "        'f1': np.mean(epoch_f1s)\n",
    "    }"
   ]
  },
  {
   "cell_type": "code",
   "execution_count": 57,
   "id": "703aa1e1",
   "metadata": {
    "ExecuteTime": {
     "end_time": "2024-03-24T08:39:50.014885100Z",
     "start_time": "2024-03-24T08:39:49.982969Z"
    }
   },
   "outputs": [],
   "source": [
    "def get_accuracy(prediction, label):\n",
    "    batch_size, _ = prediction.shape\n",
    "    predicted_classes = prediction.argmax(dim=-1)\n",
    "    correct_predictions = predicted_classes.eq(label).sum()\n",
    "    accuracy = correct_predictions / batch_size\n",
    "    return accuracy"
   ]
  },
  {
   "cell_type": "code",
   "execution_count": 58,
   "id": "31343f1b",
   "metadata": {
    "ExecuteTime": {
     "end_time": "2024-03-24T08:41:13.090821500Z",
     "start_time": "2024-03-24T08:39:50.880571300Z"
    }
   },
   "outputs": [
    {
     "name": "stderr",
     "output_type": "stream",
     "text": [
      "training...: 100%|██████████| 37/37 [00:07<00:00,  4.97it/s]\n",
      "evaluating...: 100%|██████████| 13/13 [00:01<00:00, 11.64it/s]\n"
     ]
    },
    {
     "name": "stdout",
     "output_type": "stream",
     "text": [
      "epoch: 0\n",
      "train_loss: 0.683, train_acc: 0.571, train_precision: 0.642, train_recall: 0.570, train_f1: 0.496\n",
      "valid_loss: 0.667, valid_acc: 0.674, valid_precision: 0.684, valid_recall: 0.674, valid_f1: 0.669\n"
     ]
    },
    {
     "name": "stderr",
     "output_type": "stream",
     "text": [
      "training...: 100%|██████████| 37/37 [00:06<00:00,  5.59it/s]\n",
      "evaluating...: 100%|██████████| 13/13 [00:01<00:00, 11.87it/s]\n"
     ]
    },
    {
     "name": "stdout",
     "output_type": "stream",
     "text": [
      "epoch: 1\n",
      "train_loss: 0.644, train_acc: 0.718, train_precision: 0.726, train_recall: 0.718, train_f1: 0.715\n",
      "valid_loss: 0.620, valid_acc: 0.732, valid_precision: 0.737, valid_recall: 0.732, valid_f1: 0.730\n"
     ]
    },
    {
     "name": "stderr",
     "output_type": "stream",
     "text": [
      "training...: 100%|██████████| 37/37 [00:06<00:00,  5.34it/s]\n",
      "evaluating...: 100%|██████████| 13/13 [00:01<00:00,  8.73it/s]\n"
     ]
    },
    {
     "name": "stdout",
     "output_type": "stream",
     "text": [
      "epoch: 2\n",
      "train_loss: 0.583, train_acc: 0.767, train_precision: 0.769, train_recall: 0.768, train_f1: 0.767\n",
      "valid_loss: 0.555, valid_acc: 0.776, valid_precision: 0.776, valid_recall: 0.776, valid_f1: 0.776\n"
     ]
    },
    {
     "name": "stderr",
     "output_type": "stream",
     "text": [
      "training...: 100%|██████████| 37/37 [00:07<00:00,  5.13it/s]\n",
      "evaluating...: 100%|██████████| 13/13 [00:01<00:00, 11.52it/s]\n"
     ]
    },
    {
     "name": "stdout",
     "output_type": "stream",
     "text": [
      "epoch: 3\n",
      "train_loss: 0.510, train_acc: 0.813, train_precision: 0.815, train_recall: 0.813, train_f1: 0.813\n",
      "valid_loss: 0.488, valid_acc: 0.818, valid_precision: 0.818, valid_recall: 0.818, valid_f1: 0.817\n"
     ]
    },
    {
     "name": "stderr",
     "output_type": "stream",
     "text": [
      "training...: 100%|██████████| 37/37 [00:07<00:00,  4.98it/s]\n",
      "evaluating...: 100%|██████████| 13/13 [00:01<00:00, 10.94it/s]\n"
     ]
    },
    {
     "name": "stdout",
     "output_type": "stream",
     "text": [
      "epoch: 4\n",
      "train_loss: 0.440, train_acc: 0.848, train_precision: 0.848, train_recall: 0.848, train_f1: 0.848\n",
      "valid_loss: 0.433, valid_acc: 0.842, valid_precision: 0.842, valid_recall: 0.841, valid_f1: 0.841\n"
     ]
    },
    {
     "name": "stderr",
     "output_type": "stream",
     "text": [
      "training...: 100%|██████████| 37/37 [00:06<00:00,  5.35it/s]\n",
      "evaluating...: 100%|██████████| 13/13 [00:01<00:00, 11.56it/s]\n"
     ]
    },
    {
     "name": "stdout",
     "output_type": "stream",
     "text": [
      "epoch: 5\n",
      "train_loss: 0.384, train_acc: 0.872, train_precision: 0.872, train_recall: 0.872, train_f1: 0.872\n",
      "valid_loss: 0.393, valid_acc: 0.853, valid_precision: 0.853, valid_recall: 0.853, valid_f1: 0.853\n"
     ]
    },
    {
     "name": "stderr",
     "output_type": "stream",
     "text": [
      "training...: 100%|██████████| 37/37 [00:07<00:00,  5.21it/s]\n",
      "evaluating...: 100%|██████████| 13/13 [00:01<00:00, 11.60it/s]\n"
     ]
    },
    {
     "name": "stdout",
     "output_type": "stream",
     "text": [
      "epoch: 6\n",
      "train_loss: 0.341, train_acc: 0.887, train_precision: 0.887, train_recall: 0.887, train_f1: 0.887\n",
      "valid_loss: 0.365, valid_acc: 0.861, valid_precision: 0.861, valid_recall: 0.860, valid_f1: 0.860\n"
     ]
    },
    {
     "name": "stderr",
     "output_type": "stream",
     "text": [
      "training...: 100%|██████████| 37/37 [00:06<00:00,  5.39it/s]\n",
      "evaluating...: 100%|██████████| 13/13 [00:01<00:00, 11.93it/s]\n"
     ]
    },
    {
     "name": "stdout",
     "output_type": "stream",
     "text": [
      "epoch: 7\n",
      "train_loss: 0.308, train_acc: 0.899, train_precision: 0.899, train_recall: 0.899, train_f1: 0.899\n",
      "valid_loss: 0.345, valid_acc: 0.866, valid_precision: 0.867, valid_recall: 0.866, valid_f1: 0.866\n"
     ]
    },
    {
     "name": "stderr",
     "output_type": "stream",
     "text": [
      "training...: 100%|██████████| 37/37 [00:06<00:00,  5.37it/s]\n",
      "evaluating...: 100%|██████████| 13/13 [00:01<00:00, 11.58it/s]\n"
     ]
    },
    {
     "name": "stdout",
     "output_type": "stream",
     "text": [
      "epoch: 8\n",
      "train_loss: 0.281, train_acc: 0.908, train_precision: 0.909, train_recall: 0.908, train_f1: 0.908\n",
      "valid_loss: 0.330, valid_acc: 0.871, valid_precision: 0.871, valid_recall: 0.871, valid_f1: 0.871\n"
     ]
    },
    {
     "name": "stderr",
     "output_type": "stream",
     "text": [
      "training...: 100%|██████████| 37/37 [00:06<00:00,  5.49it/s]\n",
      "evaluating...: 100%|██████████| 13/13 [00:01<00:00, 11.67it/s]"
     ]
    },
    {
     "name": "stdout",
     "output_type": "stream",
     "text": [
      "epoch: 9\n",
      "train_loss: 0.258, train_acc: 0.917, train_precision: 0.917, train_recall: 0.917, train_f1: 0.917\n",
      "valid_loss: 0.318, valid_acc: 0.874, valid_precision: 0.874, valid_recall: 0.874, valid_f1: 0.874\n"
     ]
    },
    {
     "name": "stderr",
     "output_type": "stream",
     "text": [
      "\n"
     ]
    }
   ],
   "source": [
    "n_epochs = 10\n",
    "best_valid_loss = float(\"inf\")\n",
    "\n",
    "metrics = collections.defaultdict(list)\n",
    "\n",
    "for epoch in range(n_epochs):\n",
    "    # The train function now returns a dictionary with multiple metrics\n",
    "    train_metrics = train(\n",
    "        train_data_loader, model, criterion, optimizer, device\n",
    "    )\n",
    "    valid_metrics = evaluate(\n",
    "        valid_data_loader, model, criterion, device\n",
    "    )\n",
    "    \n",
    "    # Save all the metrics\n",
    "    for key, value in train_metrics.items():\n",
    "        metrics[f\"train_{key}\"].append(value)\n",
    "    for key, value in valid_metrics.items():\n",
    "        metrics[f\"valid_{key}\"].append(value)\n",
    "    \n",
    "    # Check if the validation loss is the best one we've seen so far\n",
    "    valid_loss = valid_metrics['loss']\n",
    "    if valid_loss < best_valid_loss:\n",
    "        best_valid_loss = valid_loss\n",
    "        torch.save(model.state_dict(), \"nbow.pt\")\n",
    "    \n",
    "    # Print out the metrics for this epoch\n",
    "    print(f\"epoch: {epoch}\")\n",
    "    print(f\"train_loss: {train_metrics['loss']:.3f}, train_acc: {train_metrics['accuracy']:.3f}, \"\n",
    "          f\"train_precision: {train_metrics['precision']:.3f}, train_recall: {train_metrics['recall']:.3f}, \"\n",
    "          f\"train_f1: {train_metrics['f1']:.3f}\")\n",
    "    print(f\"valid_loss: {valid_metrics['loss']:.3f}, valid_acc: {valid_metrics['accuracy']:.3f}, \"\n",
    "          f\"valid_precision: {valid_metrics['precision']:.3f}, valid_recall: {valid_metrics['recall']:.3f}, \"\n",
    "          f\"valid_f1: {valid_metrics['f1']:.3f}\")"
   ]
  },
  {
   "cell_type": "code",
   "execution_count": 61,
   "id": "2d791c70",
   "metadata": {
    "ExecuteTime": {
     "end_time": "2024-03-24T08:43:32.932038300Z",
     "start_time": "2024-03-24T08:43:32.736559500Z"
    }
   },
   "outputs": [
    {
     "data": {
      "text/plain": "<Figure size 1000x600 with 1 Axes>",
      "image/png": "[encoded data removed]"
     },
     "metadata": {},
     "output_type": "display_data"
    }
   ],
   "source": [
    "fig = plt.figure(figsize=(10, 6))\n",
    "ax = fig.add_subplot(1, 1, 1)\n",
    "ax.plot(metrics['train_loss'], label=\"train loss\")\n",
    "ax.plot(metrics['valid_loss'], label=\"valid loss\")\n",
    "ax.set_xlabel(\"epoch\")\n",
    "ax.set_ylabel(\"loss\")\n",
    "ax.set_xticks(range(n_epochs))\n",
    "ax.legend()\n",
    "ax.grid()"
   ]
  },
  {
   "cell_type": "code",
   "execution_count": 62,
   "id": "bc422190",
   "metadata": {
    "ExecuteTime": {
     "end_time": "2024-03-24T08:44:16.029910400Z",
     "start_time": "2024-03-24T08:44:15.704817500Z"
    }
   },
   "outputs": [
    {
     "data": {
      "text/plain": "<Figure size 1000x600 with 1 Axes>",
      "image/png": "[encoded data removed]"
     },
     "metadata": {},
     "output_type": "display_data"
    }
   ],
   "source": [
    "fig = plt.figure(figsize=(10, 6))\n",
    "ax = fig.add_subplot(1, 1, 1)\n",
    "ax.plot(metrics['train_accuracy'], label=\"train accuracy\")\n",
    "ax.plot(metrics['valid_accuracy'], label=\"valid accuracy\")\n",
    "ax.set_xlabel(\"epoch\")\n",
    "ax.set_ylabel(\"accuracy\")\n",
    "ax.set_xticks(range(n_epochs))\n",
    "ax.legend()\n",
    "ax.grid()"
   ]
  },
  {
   "cell_type": "code",
   "execution_count": 63,
   "outputs": [
    {
     "data": {
      "text/plain": "<Figure size 1000x600 with 1 Axes>",
      "image/png": "[encoded data removed]"
     },
     "metadata": {},
     "output_type": "display_data"
    }
   ],
   "source": [
    "fig = plt.figure(figsize=(10, 6))\n",
    "ax = fig.add_subplot(1, 1, 1)\n",
    "ax.plot(metrics['train_precision'], label=\"train precision\")\n",
    "ax.plot(metrics['valid_precision'], label=\"valid precision\")\n",
    "ax.set_xlabel(\"epoch\")\n",
    "ax.set_ylabel(\"precision\")\n",
    "ax.set_xticks(range(n_epochs))\n",
    "ax.legend()\n",
    "ax.grid()"
   ],
   "metadata": {
    "collapsed": false,
    "ExecuteTime": {
     "end_time": "2024-03-24T08:45:05.565716500Z",
     "start_time": "2024-03-24T08:45:05.372234Z"
    }
   },
   "id": "baca2c6e1fdfdc7b"
  },
  {
   "cell_type": "code",
   "execution_count": 64,
   "outputs": [
    {
     "data": {
      "text/plain": "<Figure size 1000x600 with 1 Axes>",
      "image/png": "[encoded data removed]"
     },
     "metadata": {},
     "output_type": "display_data"
    }
   ],
   "source": [
    "fig = plt.figure(figsize=(10, 6))\n",
    "ax = fig.add_subplot(1, 1, 1)\n",
    "ax.plot(metrics['train_recall'], label=\"train recall\")\n",
    "ax.plot(metrics['valid_recall'], label=\"valid recall\")\n",
    "ax.set_xlabel(\"epoch\")\n",
    "ax.set_ylabel(\"recall\")\n",
    "ax.set_xticks(range(n_epochs))\n",
    "ax.legend()\n",
    "ax.grid()"
   ],
   "metadata": {
    "collapsed": false,
    "ExecuteTime": {
     "end_time": "2024-03-24T08:45:42.942260300Z",
     "start_time": "2024-03-24T08:45:42.724872600Z"
    }
   },
   "id": "e5834c69d35ab47e"
  },
  {
   "cell_type": "code",
   "execution_count": 65,
   "outputs": [
    {
     "data": {
      "text/plain": "<Figure size 1000x600 with 1 Axes>",
      "image/png": "[encoded data removed]"
     },
     "metadata": {},
     "output_type": "display_data"
    }
   ],
   "source": [
    "fig = plt.figure(figsize=(10, 6))\n",
    "ax = fig.add_subplot(1, 1, 1)\n",
    "ax.plot(metrics['train_f1'], label=\"train f1\")\n",
    "ax.plot(metrics['valid_f1'], label=\"valid f1\")\n",
    "ax.set_xlabel(\"epoch\")\n",
    "ax.set_ylabel(\"f1\")\n",
    "ax.set_xticks(range(n_epochs))\n",
    "ax.legend()\n",
    "ax.grid()"
   ],
   "metadata": {
    "collapsed": false,
    "ExecuteTime": {
     "end_time": "2024-03-24T08:46:14.164679200Z",
     "start_time": "2024-03-24T08:46:13.965254700Z"
    }
   },
   "id": "f4ed6b72d88adfa7"
  },
  {
   "cell_type": "code",
   "execution_count": 66,
   "id": "cac26e8e",
   "metadata": {
    "ExecuteTime": {
     "end_time": "2024-03-24T08:46:35.889663700Z",
     "start_time": "2024-03-24T08:46:31.721811Z"
    }
   },
   "outputs": [
    {
     "name": "stderr",
     "output_type": "stream",
     "text": [
      "evaluating...:   0%|          | 0/49 [00:00<?, ?it/s]D:\\pythonworkspca\\pytorch-sentiment-analysis\\venv\\lib\\site-packages\\sklearn\\metrics\\_classification.py:1509: UndefinedMetricWarning: Recall is ill-defined and being set to 0.0 in labels with no true samples. Use `zero_division` parameter to control this behavior.\n",
      "  _warn_prf(average, modifier, f\"{metric.capitalize()} is\", len(result))\n",
      "D:\\pythonworkspca\\pytorch-sentiment-analysis\\venv\\lib\\site-packages\\sklearn\\metrics\\_classification.py:1509: UndefinedMetricWarning: Recall is ill-defined and being set to 0.0 in labels with no true samples. Use `zero_division` parameter to control this behavior.\n",
      "  _warn_prf(average, modifier, f\"{metric.capitalize()} is\", len(result))\n",
      "evaluating...:   4%|▍         | 2/49 [00:00<00:03, 11.94it/s]D:\\pythonworkspca\\pytorch-sentiment-analysis\\venv\\lib\\site-packages\\sklearn\\metrics\\_classification.py:1509: UndefinedMetricWarning: Recall is ill-defined and being set to 0.0 in labels with no true samples. Use `zero_division` parameter to control this behavior.\n",
      "  _warn_prf(average, modifier, f\"{metric.capitalize()} is\", len(result))\n",
      "D:\\pythonworkspca\\pytorch-sentiment-analysis\\venv\\lib\\site-packages\\sklearn\\metrics\\_classification.py:1509: UndefinedMetricWarning: Recall is ill-defined and being set to 0.0 in labels with no true samples. Use `zero_division` parameter to control this behavior.\n",
      "  _warn_prf(average, modifier, f\"{metric.capitalize()} is\", len(result))\n",
      "evaluating...:   8%|▊         | 4/49 [00:00<00:03, 11.89it/s]D:\\pythonworkspca\\pytorch-sentiment-analysis\\venv\\lib\\site-packages\\sklearn\\metrics\\_classification.py:1509: UndefinedMetricWarning: Recall is ill-defined and being set to 0.0 in labels with no true samples. Use `zero_division` parameter to control this behavior.\n",
      "  _warn_prf(average, modifier, f\"{metric.capitalize()} is\", len(result))\n",
      "D:\\pythonworkspca\\pytorch-sentiment-analysis\\venv\\lib\\site-packages\\sklearn\\metrics\\_classification.py:1509: UndefinedMetricWarning: Recall is ill-defined and being set to 0.0 in labels with no true samples. Use `zero_division` parameter to control this behavior.\n",
      "  _warn_prf(average, modifier, f\"{metric.capitalize()} is\", len(result))\n",
      "evaluating...:  12%|█▏        | 6/49 [00:00<00:03, 11.48it/s]D:\\pythonworkspca\\pytorch-sentiment-analysis\\venv\\lib\\site-packages\\sklearn\\metrics\\_classification.py:1509: UndefinedMetricWarning: Recall is ill-defined and being set to 0.0 in labels with no true samples. Use `zero_division` parameter to control this behavior.\n",
      "  _warn_prf(average, modifier, f\"{metric.capitalize()} is\", len(result))\n",
      "D:\\pythonworkspca\\pytorch-sentiment-analysis\\venv\\lib\\site-packages\\sklearn\\metrics\\_classification.py:1509: UndefinedMetricWarning: Recall is ill-defined and being set to 0.0 in labels with no true samples. Use `zero_division` parameter to control this behavior.\n",
      "  _warn_prf(average, modifier, f\"{metric.capitalize()} is\", len(result))\n",
      "evaluating...:  16%|█▋        | 8/49 [00:00<00:03, 11.02it/s]D:\\pythonworkspca\\pytorch-sentiment-analysis\\venv\\lib\\site-packages\\sklearn\\metrics\\_classification.py:1509: UndefinedMetricWarning: Recall is ill-defined and being set to 0.0 in labels with no true samples. Use `zero_division` parameter to control this behavior.\n",
      "  _warn_prf(average, modifier, f\"{metric.capitalize()} is\", len(result))\n",
      "D:\\pythonworkspca\\pytorch-sentiment-analysis\\venv\\lib\\site-packages\\sklearn\\metrics\\_classification.py:1509: UndefinedMetricWarning: Recall is ill-defined and being set to 0.0 in labels with no true samples. Use `zero_division` parameter to control this behavior.\n",
      "  _warn_prf(average, modifier, f\"{metric.capitalize()} is\", len(result))\n",
      "evaluating...:  20%|██        | 10/49 [00:00<00:03, 11.52it/s]D:\\pythonworkspca\\pytorch-sentiment-analysis\\venv\\lib\\site-packages\\sklearn\\metrics\\_classification.py:1509: UndefinedMetricWarning: Recall is ill-defined and being set to 0.0 in labels with no true samples. Use `zero_division` parameter to control this behavior.\n",
      "  _warn_prf(average, modifier, f\"{metric.capitalize()} is\", len(result))\n",
      "D:\\pythonworkspca\\pytorch-sentiment-analysis\\venv\\lib\\site-packages\\sklearn\\metrics\\_classification.py:1509: UndefinedMetricWarning: Recall is ill-defined and being set to 0.0 in labels with no true samples. Use `zero_division` parameter to control this behavior.\n",
      "  _warn_prf(average, modifier, f\"{metric.capitalize()} is\", len(result))\n",
      "evaluating...:  24%|██▍       | 12/49 [00:01<00:03, 11.52it/s]D:\\pythonworkspca\\pytorch-sentiment-analysis\\venv\\lib\\site-packages\\sklearn\\metrics\\_classification.py:1509: UndefinedMetricWarning: Recall is ill-defined and being set to 0.0 in labels with no true samples. Use `zero_division` parameter to control this behavior.\n",
      "  _warn_prf(average, modifier, f\"{metric.capitalize()} is\", len(result))\n",
      "D:\\pythonworkspca\\pytorch-sentiment-analysis\\venv\\lib\\site-packages\\sklearn\\metrics\\_classification.py:1509: UndefinedMetricWarning: Recall is ill-defined and being set to 0.0 in labels with no true samples. Use `zero_division` parameter to control this behavior.\n",
      "  _warn_prf(average, modifier, f\"{metric.capitalize()} is\", len(result))\n",
      "evaluating...:  29%|██▊       | 14/49 [00:01<00:02, 11.84it/s]D:\\pythonworkspca\\pytorch-sentiment-analysis\\venv\\lib\\site-packages\\sklearn\\metrics\\_classification.py:1509: UndefinedMetricWarning: Recall is ill-defined and being set to 0.0 in labels with no true samples. Use `zero_division` parameter to control this behavior.\n",
      "  _warn_prf(average, modifier, f\"{metric.capitalize()} is\", len(result))\n",
      "D:\\pythonworkspca\\pytorch-sentiment-analysis\\venv\\lib\\site-packages\\sklearn\\metrics\\_classification.py:1509: UndefinedMetricWarning: Recall is ill-defined and being set to 0.0 in labels with no true samples. Use `zero_division` parameter to control this behavior.\n",
      "  _warn_prf(average, modifier, f\"{metric.capitalize()} is\", len(result))\n",
      "evaluating...:  33%|███▎      | 16/49 [00:01<00:02, 11.76it/s]D:\\pythonworkspca\\pytorch-sentiment-analysis\\venv\\lib\\site-packages\\sklearn\\metrics\\_classification.py:1509: UndefinedMetricWarning: Recall is ill-defined and being set to 0.0 in labels with no true samples. Use `zero_division` parameter to control this behavior.\n",
      "  _warn_prf(average, modifier, f\"{metric.capitalize()} is\", len(result))\n",
      "D:\\pythonworkspca\\pytorch-sentiment-analysis\\venv\\lib\\site-packages\\sklearn\\metrics\\_classification.py:1509: UndefinedMetricWarning: Recall is ill-defined and being set to 0.0 in labels with no true samples. Use `zero_division` parameter to control this behavior.\n",
      "  _warn_prf(average, modifier, f\"{metric.capitalize()} is\", len(result))\n",
      "evaluating...:  37%|███▋      | 18/49 [00:01<00:02, 11.52it/s]D:\\pythonworkspca\\pytorch-sentiment-analysis\\venv\\lib\\site-packages\\sklearn\\metrics\\_classification.py:1509: UndefinedMetricWarning: Recall is ill-defined and being set to 0.0 in labels with no true samples. Use `zero_division` parameter to control this behavior.\n",
      "  _warn_prf(average, modifier, f\"{metric.capitalize()} is\", len(result))\n",
      "D:\\pythonworkspca\\pytorch-sentiment-analysis\\venv\\lib\\site-packages\\sklearn\\metrics\\_classification.py:1509: UndefinedMetricWarning: Recall is ill-defined and being set to 0.0 in labels with no true samples. Use `zero_division` parameter to control this behavior.\n",
      "  _warn_prf(average, modifier, f\"{metric.capitalize()} is\", len(result))\n",
      "evaluating...:  41%|████      | 20/49 [00:01<00:02, 11.38it/s]D:\\pythonworkspca\\pytorch-sentiment-analysis\\venv\\lib\\site-packages\\sklearn\\metrics\\_classification.py:1509: UndefinedMetricWarning: Recall is ill-defined and being set to 0.0 in labels with no true samples. Use `zero_division` parameter to control this behavior.\n",
      "  _warn_prf(average, modifier, f\"{metric.capitalize()} is\", len(result))\n",
      "D:\\pythonworkspca\\pytorch-sentiment-analysis\\venv\\lib\\site-packages\\sklearn\\metrics\\_classification.py:1509: UndefinedMetricWarning: Recall is ill-defined and being set to 0.0 in labels with no true samples. Use `zero_division` parameter to control this behavior.\n",
      "  _warn_prf(average, modifier, f\"{metric.capitalize()} is\", len(result))\n",
      "evaluating...:  45%|████▍     | 22/49 [00:01<00:02, 11.79it/s]D:\\pythonworkspca\\pytorch-sentiment-analysis\\venv\\lib\\site-packages\\sklearn\\metrics\\_classification.py:1509: UndefinedMetricWarning: Recall is ill-defined and being set to 0.0 in labels with no true samples. Use `zero_division` parameter to control this behavior.\n",
      "  _warn_prf(average, modifier, f\"{metric.capitalize()} is\", len(result))\n",
      "D:\\pythonworkspca\\pytorch-sentiment-analysis\\venv\\lib\\site-packages\\sklearn\\metrics\\_classification.py:1509: UndefinedMetricWarning: Recall is ill-defined and being set to 0.0 in labels with no true samples. Use `zero_division` parameter to control this behavior.\n",
      "  _warn_prf(average, modifier, f\"{metric.capitalize()} is\", len(result))\n",
      "evaluating...:  49%|████▉     | 24/49 [00:02<00:02, 11.73it/s]D:\\pythonworkspca\\pytorch-sentiment-analysis\\venv\\lib\\site-packages\\sklearn\\metrics\\_classification.py:1509: UndefinedMetricWarning: Recall is ill-defined and being set to 0.0 in labels with no true samples. Use `zero_division` parameter to control this behavior.\n",
      "  _warn_prf(average, modifier, f\"{metric.capitalize()} is\", len(result))\n",
      "evaluating...:  53%|█████▎    | 26/49 [00:02<00:01, 11.88it/s]D:\\pythonworkspca\\pytorch-sentiment-analysis\\venv\\lib\\site-packages\\sklearn\\metrics\\_classification.py:1509: UndefinedMetricWarning: Recall is ill-defined and being set to 0.0 in labels with no true samples. Use `zero_division` parameter to control this behavior.\n",
      "  _warn_prf(average, modifier, f\"{metric.capitalize()} is\", len(result))\n",
      "D:\\pythonworkspca\\pytorch-sentiment-analysis\\venv\\lib\\site-packages\\sklearn\\metrics\\_classification.py:1509: UndefinedMetricWarning: Recall is ill-defined and being set to 0.0 in labels with no true samples. Use `zero_division` parameter to control this behavior.\n",
      "  _warn_prf(average, modifier, f\"{metric.capitalize()} is\", len(result))\n",
      "evaluating...:  57%|█████▋    | 28/49 [00:02<00:01, 12.05it/s]D:\\pythonworkspca\\pytorch-sentiment-analysis\\venv\\lib\\site-packages\\sklearn\\metrics\\_classification.py:1509: UndefinedMetricWarning: Recall is ill-defined and being set to 0.0 in labels with no true samples. Use `zero_division` parameter to control this behavior.\n",
      "  _warn_prf(average, modifier, f\"{metric.capitalize()} is\", len(result))\n",
      "D:\\pythonworkspca\\pytorch-sentiment-analysis\\venv\\lib\\site-packages\\sklearn\\metrics\\_classification.py:1509: UndefinedMetricWarning: Recall is ill-defined and being set to 0.0 in labels with no true samples. Use `zero_division` parameter to control this behavior.\n",
      "  _warn_prf(average, modifier, f\"{metric.capitalize()} is\", len(result))\n",
      "evaluating...:  61%|██████    | 30/49 [00:02<00:01, 12.14it/s]D:\\pythonworkspca\\pytorch-sentiment-analysis\\venv\\lib\\site-packages\\sklearn\\metrics\\_classification.py:1509: UndefinedMetricWarning: Recall is ill-defined and being set to 0.0 in labels with no true samples. Use `zero_division` parameter to control this behavior.\n",
      "  _warn_prf(average, modifier, f\"{metric.capitalize()} is\", len(result))\n",
      "D:\\pythonworkspca\\pytorch-sentiment-analysis\\venv\\lib\\site-packages\\sklearn\\metrics\\_classification.py:1509: UndefinedMetricWarning: Recall is ill-defined and being set to 0.0 in labels with no true samples. Use `zero_division` parameter to control this behavior.\n",
      "  _warn_prf(average, modifier, f\"{metric.capitalize()} is\", len(result))\n",
      "evaluating...:  65%|██████▌   | 32/49 [00:02<00:01, 12.02it/s]D:\\pythonworkspca\\pytorch-sentiment-analysis\\venv\\lib\\site-packages\\sklearn\\metrics\\_classification.py:1509: UndefinedMetricWarning: Recall is ill-defined and being set to 0.0 in labels with no true samples. Use `zero_division` parameter to control this behavior.\n",
      "  _warn_prf(average, modifier, f\"{metric.capitalize()} is\", len(result))\n",
      "D:\\pythonworkspca\\pytorch-sentiment-analysis\\venv\\lib\\site-packages\\sklearn\\metrics\\_classification.py:1509: UndefinedMetricWarning: Recall is ill-defined and being set to 0.0 in labels with no true samples. Use `zero_division` parameter to control this behavior.\n",
      "  _warn_prf(average, modifier, f\"{metric.capitalize()} is\", len(result))\n",
      "evaluating...:  69%|██████▉   | 34/49 [00:02<00:01, 11.50it/s]D:\\pythonworkspca\\pytorch-sentiment-analysis\\venv\\lib\\site-packages\\sklearn\\metrics\\_classification.py:1509: UndefinedMetricWarning: Recall is ill-defined and being set to 0.0 in labels with no true samples. Use `zero_division` parameter to control this behavior.\n",
      "  _warn_prf(average, modifier, f\"{metric.capitalize()} is\", len(result))\n",
      "D:\\pythonworkspca\\pytorch-sentiment-analysis\\venv\\lib\\site-packages\\sklearn\\metrics\\_classification.py:1509: UndefinedMetricWarning: Recall is ill-defined and being set to 0.0 in labels with no true samples. Use `zero_division` parameter to control this behavior.\n",
      "  _warn_prf(average, modifier, f\"{metric.capitalize()} is\", len(result))\n",
      "evaluating...:  73%|███████▎  | 36/49 [00:03<00:01, 11.60it/s]D:\\pythonworkspca\\pytorch-sentiment-analysis\\venv\\lib\\site-packages\\sklearn\\metrics\\_classification.py:1509: UndefinedMetricWarning: Recall is ill-defined and being set to 0.0 in labels with no true samples. Use `zero_division` parameter to control this behavior.\n",
      "  _warn_prf(average, modifier, f\"{metric.capitalize()} is\", len(result))\n",
      "D:\\pythonworkspca\\pytorch-sentiment-analysis\\venv\\lib\\site-packages\\sklearn\\metrics\\_classification.py:1509: UndefinedMetricWarning: Recall is ill-defined and being set to 0.0 in labels with no true samples. Use `zero_division` parameter to control this behavior.\n",
      "  _warn_prf(average, modifier, f\"{metric.capitalize()} is\", len(result))\n",
      "evaluating...:  78%|███████▊  | 38/49 [00:03<00:00, 12.06it/s]D:\\pythonworkspca\\pytorch-sentiment-analysis\\venv\\lib\\site-packages\\sklearn\\metrics\\_classification.py:1509: UndefinedMetricWarning: Recall is ill-defined and being set to 0.0 in labels with no true samples. Use `zero_division` parameter to control this behavior.\n",
      "  _warn_prf(average, modifier, f\"{metric.capitalize()} is\", len(result))\n",
      "D:\\pythonworkspca\\pytorch-sentiment-analysis\\venv\\lib\\site-packages\\sklearn\\metrics\\_classification.py:1509: UndefinedMetricWarning: Recall is ill-defined and being set to 0.0 in labels with no true samples. Use `zero_division` parameter to control this behavior.\n",
      "  _warn_prf(average, modifier, f\"{metric.capitalize()} is\", len(result))\n",
      "evaluating...:  82%|████████▏ | 40/49 [00:03<00:00, 12.31it/s]D:\\pythonworkspca\\pytorch-sentiment-analysis\\venv\\lib\\site-packages\\sklearn\\metrics\\_classification.py:1509: UndefinedMetricWarning: Recall is ill-defined and being set to 0.0 in labels with no true samples. Use `zero_division` parameter to control this behavior.\n",
      "  _warn_prf(average, modifier, f\"{metric.capitalize()} is\", len(result))\n",
      "D:\\pythonworkspca\\pytorch-sentiment-analysis\\venv\\lib\\site-packages\\sklearn\\metrics\\_classification.py:1509: UndefinedMetricWarning: Recall is ill-defined and being set to 0.0 in labels with no true samples. Use `zero_division` parameter to control this behavior.\n",
      "  _warn_prf(average, modifier, f\"{metric.capitalize()} is\", len(result))\n",
      "evaluating...:  86%|████████▌ | 42/49 [00:03<00:00, 12.24it/s]D:\\pythonworkspca\\pytorch-sentiment-analysis\\venv\\lib\\site-packages\\sklearn\\metrics\\_classification.py:1509: UndefinedMetricWarning: Recall is ill-defined and being set to 0.0 in labels with no true samples. Use `zero_division` parameter to control this behavior.\n",
      "  _warn_prf(average, modifier, f\"{metric.capitalize()} is\", len(result))\n",
      "D:\\pythonworkspca\\pytorch-sentiment-analysis\\venv\\lib\\site-packages\\sklearn\\metrics\\_classification.py:1509: UndefinedMetricWarning: Recall is ill-defined and being set to 0.0 in labels with no true samples. Use `zero_division` parameter to control this behavior.\n",
      "  _warn_prf(average, modifier, f\"{metric.capitalize()} is\", len(result))\n",
      "evaluating...:  90%|████████▉ | 44/49 [00:03<00:00, 13.02it/s]D:\\pythonworkspca\\pytorch-sentiment-analysis\\venv\\lib\\site-packages\\sklearn\\metrics\\_classification.py:1509: UndefinedMetricWarning: Recall is ill-defined and being set to 0.0 in labels with no true samples. Use `zero_division` parameter to control this behavior.\n",
      "  _warn_prf(average, modifier, f\"{metric.capitalize()} is\", len(result))\n",
      "D:\\pythonworkspca\\pytorch-sentiment-analysis\\venv\\lib\\site-packages\\sklearn\\metrics\\_classification.py:1509: UndefinedMetricWarning: Recall is ill-defined and being set to 0.0 in labels with no true samples. Use `zero_division` parameter to control this behavior.\n",
      "  _warn_prf(average, modifier, f\"{metric.capitalize()} is\", len(result))\n",
      "evaluating...:  94%|█████████▍| 46/49 [00:03<00:00, 12.85it/s]D:\\pythonworkspca\\pytorch-sentiment-analysis\\venv\\lib\\site-packages\\sklearn\\metrics\\_classification.py:1509: UndefinedMetricWarning: Recall is ill-defined and being set to 0.0 in labels with no true samples. Use `zero_division` parameter to control this behavior.\n",
      "  _warn_prf(average, modifier, f\"{metric.capitalize()} is\", len(result))\n",
      "D:\\pythonworkspca\\pytorch-sentiment-analysis\\venv\\lib\\site-packages\\sklearn\\metrics\\_classification.py:1509: UndefinedMetricWarning: Recall is ill-defined and being set to 0.0 in labels with no true samples. Use `zero_division` parameter to control this behavior.\n",
      "  _warn_prf(average, modifier, f\"{metric.capitalize()} is\", len(result))\n",
      "evaluating...:  98%|█████████▊| 48/49 [00:04<00:00, 12.37it/s]D:\\pythonworkspca\\pytorch-sentiment-analysis\\venv\\lib\\site-packages\\sklearn\\metrics\\_classification.py:1509: UndefinedMetricWarning: Recall is ill-defined and being set to 0.0 in labels with no true samples. Use `zero_division` parameter to control this behavior.\n",
      "  _warn_prf(average, modifier, f\"{metric.capitalize()} is\", len(result))\n",
      "evaluating...: 100%|██████████| 49/49 [00:04<00:00, 11.96it/s]\n"
     ]
    }
   ],
   "source": [
    "model.load_state_dict(torch.load(\"nbow.pt\"))\n",
    "\n",
    "test_metrics = evaluate(test_data_loader, model, criterion, device)\n",
    "test_loss = test_metrics['loss']\n",
    "test_acc = test_metrics['accuracy']\n",
    "test_precision = test_metrics['precision']\n",
    "test_recall = test_metrics['recall']\n",
    "test_f1 = test_metrics['f1']"
   ]
  },
  {
   "cell_type": "code",
   "execution_count": 67,
   "id": "1d741147",
   "metadata": {
    "ExecuteTime": {
     "end_time": "2024-03-24T08:46:38.641509Z",
     "start_time": "2024-03-24T08:46:38.606876900Z"
    }
   },
   "outputs": [
    {
     "name": "stdout",
     "output_type": "stream",
     "text": [
      "test_loss: 0.352, test_acc: 0.858\n",
      "test_precision: 0.508, test_recall: 0.438, test_f1: 0.470\n"
     ]
    }
   ],
   "source": [
    "print(f\"test_loss: {test_loss:.3f}, test_acc: {test_acc:.3f}\")\n",
    "print(f\"test_precision: {test_precision:.3f}, test_recall: {test_recall:.3f}, test_f1: {test_f1:.3f}\")"
   ]
  },
  {
   "cell_type": "code",
   "execution_count": null,
   "id": "b22e040a",
   "metadata": {},
   "outputs": [],
   "source": [
    "def predict_sentiment(text, model, tokenizer, vocab, device):\n",
    "    tokens = tokenizer(text)\n",
    "    ids = vocab.lookup_indices(tokens)\n",
    "    tensor = torch.LongTensor(ids).unsqueeze(dim=0).to(device)\n",
    "    prediction = model(tensor).squeeze(dim=0)\n",
    "    probability = torch.softmax(prediction, dim=-1)\n",
    "    predicted_class = prediction.argmax(dim=-1).item()\n",
    "    predicted_probability = probability[predicted_class].item()\n",
    "    return predicted_class, predicted_probability"
   ]
  },
  {
   "cell_type": "code",
   "execution_count": null,
   "id": "9cfa14eb",
   "metadata": {},
   "outputs": [],
   "source": [
    "text = \"This film is terrible!\"\n",
    "\n",
    "predict_sentiment(text, model, tokenizer, vocab, device)"
   ]
  },
  {
   "cell_type": "code",
   "execution_count": null,
   "id": "1da60d90",
   "metadata": {},
   "outputs": [],
   "source": [
    "text = \"This film is great!\"\n",
    "\n",
    "predict_sentiment(text, model, tokenizer, vocab, device)"
   ]
  },
  {
   "cell_type": "code",
   "execution_count": null,
   "id": "4bee6190",
   "metadata": {},
   "outputs": [],
   "source": [
    "text = \"This film is not terrible, it's great!\"\n",
    "\n",
    "predict_sentiment(text, model, tokenizer, vocab, device)"
   ]
  },
  {
   "cell_type": "code",
   "execution_count": null,
   "id": "e3d55c92",
   "metadata": {},
   "outputs": [],
   "source": [
    "text = \"This film is not great, it's terrible!\"\n",
    "\n",
    "predict_sentiment(text, model, tokenizer, vocab, device)"
   ]
  }
 ],
 "metadata": {
  "kernelspec": {
   "display_name": "Python 3 (ipykernel)",
   "language": "python",
   "name": "python3"
  },
  "language_info": {
   "codemirror_mode": {
    "name": "ipython",
    "version": 3
   },
   "file_extension": ".py",
   "mimetype": "text/x-python",
   "name": "python",
   "nbconvert_exporter": "python",
   "pygments_lexer": "ipython3",
   "version": "3.9.12"
  }
 },
 "nbformat": 4,
 "nbformat_minor": 5
}
